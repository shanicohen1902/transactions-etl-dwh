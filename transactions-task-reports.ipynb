{
 "cells": [
  {
   "cell_type": "code",
   "execution_count": 28,
   "id": "fdafb7ab",
   "metadata": {},
   "outputs": [],
   "source": [
    "import pandas as pd\n",
    "import psycopg2\n",
    "import sqlalchemy"
   ]
  },
  {
   "cell_type": "code",
   "execution_count": 29,
   "id": "129b5ae5",
   "metadata": {},
   "outputs": [],
   "source": [
    "connection = sqlalchemy.create_engine(f'postgresql+psycopg2://myusername@0.0.0.0:5432/postgres')"
   ]
  },
  {
   "cell_type": "code",
   "execution_count": 31,
   "id": "37a9261d",
   "metadata": {},
   "outputs": [
    {
     "data": {
      "text/html": [
       "<div>\n",
       "<style scoped>\n",
       "    .dataframe tbody tr th:only-of-type {\n",
       "        vertical-align: middle;\n",
       "    }\n",
       "\n",
       "    .dataframe tbody tr th {\n",
       "        vertical-align: top;\n",
       "    }\n",
       "\n",
       "    .dataframe thead th {\n",
       "        text-align: right;\n",
       "    }\n",
       "</style>\n",
       "<table border=\"1\" class=\"dataframe\">\n",
       "  <thead>\n",
       "    <tr style=\"text-align: right;\">\n",
       "      <th></th>\n",
       "      <th>year</th>\n",
       "      <th>month</th>\n",
       "      <th>total_cost</th>\n",
       "    </tr>\n",
       "  </thead>\n",
       "  <tbody>\n",
       "    <tr>\n",
       "      <th>0</th>\n",
       "      <td>2022</td>\n",
       "      <td>3</td>\n",
       "      <td>1187.991417</td>\n",
       "    </tr>\n",
       "    <tr>\n",
       "      <th>1</th>\n",
       "      <td>2022</td>\n",
       "      <td>4</td>\n",
       "      <td>914.995204</td>\n",
       "    </tr>\n",
       "    <tr>\n",
       "      <th>2</th>\n",
       "      <td>2022</td>\n",
       "      <td>5</td>\n",
       "      <td>1047.174946</td>\n",
       "    </tr>\n",
       "  </tbody>\n",
       "</table>\n",
       "</div>"
      ],
      "text/plain": [
       "   year  month   total_cost\n",
       "0  2022      3  1187.991417\n",
       "1  2022      4   914.995204\n",
       "2  2022      5  1047.174946"
      ]
     },
     "execution_count": 31,
     "metadata": {},
     "output_type": "execute_result"
    }
   ],
   "source": [
    "# Accountants report for total cost by month of 2022\n",
    "query = \"\"\" select year, month, sum(total_transaction_cost) as total_cost \n",
    "            from transaction_fact, date_dim\n",
    "            where transaction_fact.date_key = date_dim.date_key\n",
    "            group by year, month\"\"\"\n",
    "\n",
    "df_mysql = pd.read_sql(query, con = connection)\n",
    "df_mysql.head()"
   ]
  },
  {
   "cell_type": "code",
   "execution_count": 33,
   "id": "9294043f",
   "metadata": {},
   "outputs": [
    {
     "data": {
      "text/html": [
       "<div>\n",
       "<style scoped>\n",
       "    .dataframe tbody tr th:only-of-type {\n",
       "        vertical-align: middle;\n",
       "    }\n",
       "\n",
       "    .dataframe tbody tr th {\n",
       "        vertical-align: top;\n",
       "    }\n",
       "\n",
       "    .dataframe thead th {\n",
       "        text-align: right;\n",
       "    }\n",
       "</style>\n",
       "<table border=\"1\" class=\"dataframe\">\n",
       "  <thead>\n",
       "    <tr style=\"text-align: right;\">\n",
       "      <th></th>\n",
       "      <th>fund</th>\n",
       "      <th>trader</th>\n",
       "      <th>security</th>\n",
       "      <th>quantity</th>\n",
       "      <th>total_cost</th>\n",
       "    </tr>\n",
       "  </thead>\n",
       "  <tbody>\n",
       "    <tr>\n",
       "      <th>0</th>\n",
       "      <td>Equity Fund</td>\n",
       "      <td>Ethel</td>\n",
       "      <td>GOOG</td>\n",
       "      <td>74.0</td>\n",
       "      <td>28.798195</td>\n",
       "    </tr>\n",
       "    <tr>\n",
       "      <th>1</th>\n",
       "      <td>Equity Fund</td>\n",
       "      <td>Ethel</td>\n",
       "      <td>IBM</td>\n",
       "      <td>162.0</td>\n",
       "      <td>104.502664</td>\n",
       "    </tr>\n",
       "    <tr>\n",
       "      <th>2</th>\n",
       "      <td>Equity Fund</td>\n",
       "      <td>Ethel</td>\n",
       "      <td>TSLA</td>\n",
       "      <td>167.0</td>\n",
       "      <td>126.387904</td>\n",
       "    </tr>\n",
       "    <tr>\n",
       "      <th>3</th>\n",
       "      <td>Future Fund</td>\n",
       "      <td>Ethel</td>\n",
       "      <td>CLU2</td>\n",
       "      <td>191.0</td>\n",
       "      <td>100.294470</td>\n",
       "    </tr>\n",
       "    <tr>\n",
       "      <th>4</th>\n",
       "      <td>Future Fund</td>\n",
       "      <td>Ethel</td>\n",
       "      <td>EDU8</td>\n",
       "      <td>218.0</td>\n",
       "      <td>63.312216</td>\n",
       "    </tr>\n",
       "  </tbody>\n",
       "</table>\n",
       "</div>"
      ],
      "text/plain": [
       "          fund trader security  quantity  total_cost\n",
       "0  Equity Fund  Ethel     GOOG      74.0   28.798195\n",
       "1  Equity Fund  Ethel      IBM     162.0  104.502664\n",
       "2  Equity Fund  Ethel     TSLA     167.0  126.387904\n",
       "3  Future Fund  Ethel     CLU2     191.0  100.294470\n",
       "4  Future Fund  Ethel     EDU8     218.0   63.312216"
      ]
     },
     "execution_count": 33,
     "metadata": {},
     "output_type": "execute_result"
    }
   ],
   "source": [
    "# A report on security, cost, and quantity for Ethel by fund by security\n",
    "query = \"\"\" select \n",
    "                fund,\n",
    "                trader, \n",
    "                security, \n",
    "                sum(quantity) as quantity, \n",
    "                sum(total_transaction_cost) as total_cost \n",
    "            from trader_dim, transaction_fact, security_dim\n",
    "            where \n",
    "                trader_dim.trader_key = transaction_fact.trader_key and \n",
    "                transaction_fact.security_key = security_dim.security_key and\n",
    "                trader = 'Ethel'\n",
    "            group by trader_dim.trader, trader_dim.fund, security\"\"\"\n",
    "\n",
    "df_mysql = pd.read_sql(query, con = connection)\n",
    "df_mysql.head()"
   ]
  }
 ],
 "metadata": {
  "kernelspec": {
   "display_name": "myenv",
   "language": "python",
   "name": "myenv"
  },
  "language_info": {
   "codemirror_mode": {
    "name": "ipython",
    "version": 3
   },
   "file_extension": ".py",
   "mimetype": "text/x-python",
   "name": "python",
   "nbconvert_exporter": "python",
   "pygments_lexer": "ipython3",
   "version": "3.9.9"
  }
 },
 "nbformat": 4,
 "nbformat_minor": 5
}
